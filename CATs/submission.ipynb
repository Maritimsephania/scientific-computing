{
 "cells": [
  {
   "cell_type": "markdown",
   "id": "1786712b",
   "metadata": {},
   "source": [
    "Name: Sephania Kipkoech\n",
    "\n",
    "RegNo: sct211-0245/2023\n",
    "\n",
    "ICS2207 Scientific Computing "
   ]
  },
  {
   "cell_type": "markdown",
   "id": "d99f069d",
   "metadata": {},
   "source": []
  },
  {
   "cell_type": "markdown",
   "id": "d3d30865",
   "metadata": {},
   "source": [
    "Question 1: Practical Gradient Descent Implementation (20 marks) \n",
    "You are provided with the function f(x) = x^2 - 6x + 9. \n",
    "a) Implement a Python function that performs gradient descent to minimize this function. \n",
    "The function should take as parameters:\n",
    " - the initial guess x0, \n",
    " - learning rate alpha, \n",
    " - and number of iterations n. \n",
    "The function should return the list of x-values and f(x)-values for each iteration. [10 Marks] "
   ]
  },
  {
   "cell_type": "code",
   "execution_count": null,
   "id": "f5ce6c04",
   "metadata": {
    "vscode": {
     "languageId": "plaintext"
    }
   },
   "outputs": [],
   "source": []
  }
 ],
 "metadata": {
  "language_info": {
   "name": "python"
  }
 },
 "nbformat": 4,
 "nbformat_minor": 5
}
