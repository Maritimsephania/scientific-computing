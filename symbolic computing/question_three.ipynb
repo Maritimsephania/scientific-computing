{
 "cells": [
  {
   "cell_type": "code",
   "execution_count": null,
   "metadata": {
    "vscode": {
     "languageId": "plaintext"
    }
   },
   "outputs": [],
   "source": [
    "from sympy import symbols, expand, factor, simplify, diff, integrate, solve,Matrix,det\n",
    "H(s) = \\frac{1}{s^2 + 3s + 2}\n"
   ]
  }
 ],
 "metadata": {
  "language_info": {
   "name": "python"
  }
 },
 "nbformat": 4,
 "nbformat_minor": 2
}
